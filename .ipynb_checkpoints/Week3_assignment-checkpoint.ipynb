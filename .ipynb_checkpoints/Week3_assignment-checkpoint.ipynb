{
 "cells": [
  {
   "cell_type": "markdown",
   "id": "7b493e84-69ee-43bc-b914-8a07ccc40e77",
   "metadata": {},
   "source": [
    "### 전복데이터의 분류/회귀를 CNN과 LSTM으로 분류 및 회귀를 작성하라"
   ]
  },
  {
   "cell_type": "code",
   "execution_count": 1,
   "id": "cd4ddc47-b780-44cb-b143-58f986921fd6",
   "metadata": {},
   "outputs": [],
   "source": [
    "import pandas as pd\n",
    "import numpy as np\n",
    "from sklearn.model_selection import train_test_split\n",
    "from sklearn.preprocessing import StandardScaler, LabelEncoder\n",
    "from sklearn.metrics import accuracy_score, classification_report, mean_squared_error, r2_score\n",
    "from tensorflow.keras.models import Sequential\n",
    "from tensorflow.keras.layers import Dense, Conv1D, Flatten, MaxPooling1D, LSTM, Dropout, Input\n",
    "from tensorflow.keras.optimizers import Adam"
   ]
  },
  {
   "cell_type": "code",
   "execution_count": 2,
   "id": "58cedb8e-32dd-4051-835a-69bc710addd6",
   "metadata": {},
   "outputs": [],
   "source": [
    "url = \"C:/Users/dnwjd/OneDrive/Desktop/CSE_6/딥러닝/AI-class-main/AI-class-main/abalone.csv\"\n",
    "data = pd.read_csv(url)"
   ]
  },
  {
   "cell_type": "code",
   "execution_count": 3,
   "id": "a4cf2f70-e7fc-4d11-a700-aceac26ea36e",
   "metadata": {},
   "outputs": [
    {
     "name": "stdout",
     "output_type": "stream",
     "text": [
      "   id Sex  Length  Diameter  Height  Whole_weight  Shucked_weight  \\\n",
      "0   0   M   0.455     0.365   0.095        0.5140          0.2245   \n",
      "1   1   M   0.350     0.265   0.090        0.2255          0.0995   \n",
      "2   2   F   0.530     0.420   0.135        0.6770          0.2565   \n",
      "3   3   M   0.440     0.365   0.125        0.5160          0.2155   \n",
      "4   4   I   0.330     0.255   0.080        0.2050          0.0895   \n",
      "\n",
      "   Viscera_weight  Shell_weight  Rings  \n",
      "0          0.1010         0.150     15  \n",
      "1          0.0485         0.070      7  \n",
      "2          0.1415         0.210      9  \n",
      "3          0.1140         0.155     10  \n",
      "4          0.0395         0.055      7  \n"
     ]
    }
   ],
   "source": [
    "print(data.head())"
   ]
  },
  {
   "cell_type": "code",
   "execution_count": 4,
   "id": "74477fbd-fb22-4338-9ba3-0b83c1e0d96b",
   "metadata": {},
   "outputs": [],
   "source": [
    "label_encoder = LabelEncoder()\n",
    "data['Sex'] = label_encoder.fit_transform(data['Sex'])"
   ]
  },
  {
   "cell_type": "code",
   "execution_count": 5,
   "id": "ae3cf230-c671-4164-b104-c9f3316ee42a",
   "metadata": {},
   "outputs": [],
   "source": [
    "data['Ring_Class'] = (data['Rings'] >= data['Rings'].median()).astype(int)  # 중간값 기준 이진 분류"
   ]
  },
  {
   "cell_type": "code",
   "execution_count": 6,
   "id": "fe915c56-4b2f-4178-87d5-078ab42dca48",
   "metadata": {},
   "outputs": [],
   "source": [
    "# 특징과 레이블 분리\n",
    "X_class = data.drop(['Rings', 'Ring_Class'], axis=1)\n",
    "y_class = data['Ring_Class']\n",
    "\n",
    "X_reg = data.drop(['Rings'], axis=1)\n",
    "y_reg = data['Rings']"
   ]
  },
  {
   "cell_type": "code",
   "execution_count": 7,
   "id": "fd573a0b-f240-4dcc-8e48-63249d4b00b0",
   "metadata": {},
   "outputs": [],
   "source": [
    "# 데이터셋 분할\n",
    "X_train_class, X_test_class, y_train_class, y_test_class = train_test_split(X_class, y_class, test_size=0.2, random_state=42)\n",
    "X_train_reg, X_test_reg, y_train_reg, y_test_reg = train_test_split(X_reg, y_reg, test_size=0.2, random_state=42)"
   ]
  },
  {
   "cell_type": "code",
   "execution_count": 8,
   "id": "bf6e5280-f1f9-460d-9a89-9bdca8a2854b",
   "metadata": {},
   "outputs": [],
   "source": [
    "# 데이터 표준화\n",
    "scaler_class = StandardScaler()\n",
    "X_train_class = scaler_class.fit_transform(X_train_class)\n",
    "X_test_class = scaler_class.transform(X_test_class)\n",
    "\n",
    "scaler_reg = StandardScaler()\n",
    "X_train_reg = scaler_reg.fit_transform(X_train_reg)\n",
    "X_test_reg = scaler_reg.transform(X_test_reg)"
   ]
  },
  {
   "cell_type": "code",
   "execution_count": 9,
   "id": "d31caa27-6123-41f0-b69e-42be25c9554f",
   "metadata": {},
   "outputs": [],
   "source": [
    "# CNN과 LSTM 모델을 위한 데이터 형태 변환 (3D 입력으로 변환)\n",
    "X_train_class_cnn = X_train_class.reshape(X_train_class.shape[0], X_train_class.shape[1], 1)\n",
    "X_test_class_cnn = X_test_class.reshape(X_test_class.shape[0], X_test_class.shape[1], 1)\n",
    "\n",
    "X_train_reg_cnn = X_train_reg.reshape(X_train_reg.shape[0], X_train_reg.shape[1], 1)\n",
    "X_test_reg_cnn = X_test_reg.reshape(X_test_reg.shape[0], X_test_reg.shape[1], 1)"
   ]
  },
  {
   "cell_type": "code",
   "execution_count": 11,
   "id": "c3252fcb-8d92-4122-8166-bf557f1f1252",
   "metadata": {},
   "outputs": [
    {
     "name": "stdout",
     "output_type": "stream",
     "text": [
      "Epoch 1/20\n",
      "\u001b[1m84/84\u001b[0m \u001b[32m━━━━━━━━━━━━━━━━━━━━\u001b[0m\u001b[37m\u001b[0m \u001b[1m3s\u001b[0m 7ms/step - accuracy: 0.8087 - loss: 0.4904 - val_accuracy: 0.8161 - val_loss: 0.3916\n",
      "Epoch 2/20\n",
      "\u001b[1m84/84\u001b[0m \u001b[32m━━━━━━━━━━━━━━━━━━━━\u001b[0m\u001b[37m\u001b[0m \u001b[1m1s\u001b[0m 6ms/step - accuracy: 0.8383 - loss: 0.3844 - val_accuracy: 0.8296 - val_loss: 0.3703\n",
      "Epoch 3/20\n",
      "\u001b[1m84/84\u001b[0m \u001b[32m━━━━━━━━━━━━━━━━━━━━\u001b[0m\u001b[37m\u001b[0m \u001b[1m0s\u001b[0m 5ms/step - accuracy: 0.8334 - loss: 0.4027 - val_accuracy: 0.8401 - val_loss: 0.3592\n",
      "Epoch 4/20\n",
      "\u001b[1m84/84\u001b[0m \u001b[32m━━━━━━━━━━━━━━━━━━━━\u001b[0m\u001b[37m\u001b[0m \u001b[1m0s\u001b[0m 4ms/step - accuracy: 0.8418 - loss: 0.3633 - val_accuracy: 0.8430 - val_loss: 0.3526\n",
      "Epoch 5/20\n",
      "\u001b[1m84/84\u001b[0m \u001b[32m━━━━━━━━━━━━━━━━━━━━\u001b[0m\u001b[37m\u001b[0m \u001b[1m0s\u001b[0m 4ms/step - accuracy: 0.8352 - loss: 0.3689 - val_accuracy: 0.8386 - val_loss: 0.3488\n",
      "Epoch 6/20\n",
      "\u001b[1m84/84\u001b[0m \u001b[32m━━━━━━━━━━━━━━━━━━━━\u001b[0m\u001b[37m\u001b[0m \u001b[1m0s\u001b[0m 5ms/step - accuracy: 0.8497 - loss: 0.3413 - val_accuracy: 0.8430 - val_loss: 0.3476\n",
      "Epoch 7/20\n",
      "\u001b[1m84/84\u001b[0m \u001b[32m━━━━━━━━━━━━━━━━━━━━\u001b[0m\u001b[37m\u001b[0m \u001b[1m0s\u001b[0m 4ms/step - accuracy: 0.8444 - loss: 0.3490 - val_accuracy: 0.8356 - val_loss: 0.3480\n",
      "Epoch 8/20\n",
      "\u001b[1m84/84\u001b[0m \u001b[32m━━━━━━━━━━━━━━━━━━━━\u001b[0m\u001b[37m\u001b[0m \u001b[1m1s\u001b[0m 7ms/step - accuracy: 0.8289 - loss: 0.3539 - val_accuracy: 0.8386 - val_loss: 0.3434\n",
      "Epoch 9/20\n",
      "\u001b[1m84/84\u001b[0m \u001b[32m━━━━━━━━━━━━━━━━━━━━\u001b[0m\u001b[37m\u001b[0m \u001b[1m0s\u001b[0m 4ms/step - accuracy: 0.8423 - loss: 0.3499 - val_accuracy: 0.8401 - val_loss: 0.3376\n",
      "Epoch 10/20\n",
      "\u001b[1m84/84\u001b[0m \u001b[32m━━━━━━━━━━━━━━━━━━━━\u001b[0m\u001b[37m\u001b[0m \u001b[1m0s\u001b[0m 4ms/step - accuracy: 0.8434 - loss: 0.3394 - val_accuracy: 0.8386 - val_loss: 0.3395\n",
      "Epoch 11/20\n",
      "\u001b[1m84/84\u001b[0m \u001b[32m━━━━━━━━━━━━━━━━━━━━\u001b[0m\u001b[37m\u001b[0m \u001b[1m0s\u001b[0m 5ms/step - accuracy: 0.8382 - loss: 0.3546 - val_accuracy: 0.8430 - val_loss: 0.3338\n",
      "Epoch 12/20\n",
      "\u001b[1m84/84\u001b[0m \u001b[32m━━━━━━━━━━━━━━━━━━━━\u001b[0m\u001b[37m\u001b[0m \u001b[1m0s\u001b[0m 5ms/step - accuracy: 0.8543 - loss: 0.3306 - val_accuracy: 0.8475 - val_loss: 0.3422\n",
      "Epoch 13/20\n",
      "\u001b[1m84/84\u001b[0m \u001b[32m━━━━━━━━━━━━━━━━━━━━\u001b[0m\u001b[37m\u001b[0m \u001b[1m0s\u001b[0m 5ms/step - accuracy: 0.8414 - loss: 0.3448 - val_accuracy: 0.8460 - val_loss: 0.3307\n",
      "Epoch 14/20\n",
      "\u001b[1m84/84\u001b[0m \u001b[32m━━━━━━━━━━━━━━━━━━━━\u001b[0m\u001b[37m\u001b[0m \u001b[1m0s\u001b[0m 5ms/step - accuracy: 0.8483 - loss: 0.3297 - val_accuracy: 0.8460 - val_loss: 0.3415\n",
      "Epoch 15/20\n",
      "\u001b[1m84/84\u001b[0m \u001b[32m━━━━━━━━━━━━━━━━━━━━\u001b[0m\u001b[37m\u001b[0m \u001b[1m0s\u001b[0m 4ms/step - accuracy: 0.8617 - loss: 0.3166 - val_accuracy: 0.8520 - val_loss: 0.3308\n",
      "Epoch 16/20\n",
      "\u001b[1m84/84\u001b[0m \u001b[32m━━━━━━━━━━━━━━━━━━━━\u001b[0m\u001b[37m\u001b[0m \u001b[1m0s\u001b[0m 4ms/step - accuracy: 0.8472 - loss: 0.3212 - val_accuracy: 0.8535 - val_loss: 0.3297\n",
      "Epoch 17/20\n",
      "\u001b[1m84/84\u001b[0m \u001b[32m━━━━━━━━━━━━━━━━━━━━\u001b[0m\u001b[37m\u001b[0m \u001b[1m0s\u001b[0m 5ms/step - accuracy: 0.8427 - loss: 0.3326 - val_accuracy: 0.8550 - val_loss: 0.3299\n",
      "Epoch 18/20\n",
      "\u001b[1m84/84\u001b[0m \u001b[32m━━━━━━━━━━━━━━━━━━━━\u001b[0m\u001b[37m\u001b[0m \u001b[1m0s\u001b[0m 4ms/step - accuracy: 0.8453 - loss: 0.3350 - val_accuracy: 0.8580 - val_loss: 0.3306\n",
      "Epoch 19/20\n",
      "\u001b[1m84/84\u001b[0m \u001b[32m━━━━━━━━━━━━━━━━━━━━\u001b[0m\u001b[37m\u001b[0m \u001b[1m0s\u001b[0m 4ms/step - accuracy: 0.8514 - loss: 0.3245 - val_accuracy: 0.8550 - val_loss: 0.3265\n",
      "Epoch 20/20\n",
      "\u001b[1m84/84\u001b[0m \u001b[32m━━━━━━━━━━━━━━━━━━━━\u001b[0m\u001b[37m\u001b[0m \u001b[1m0s\u001b[0m 4ms/step - accuracy: 0.8661 - loss: 0.3070 - val_accuracy: 0.8520 - val_loss: 0.3314\n",
      "\u001b[1m27/27\u001b[0m \u001b[32m━━━━━━━━━━━━━━━━━━━━\u001b[0m\u001b[37m\u001b[0m \u001b[1m0s\u001b[0m 2ms/step - accuracy: 0.8597 - loss: 0.3194 \n",
      "\n",
      "=== CNN Classifier ===\n",
      "Test Accuracy: 0.8445\n"
     ]
    }
   ],
   "source": [
    "# CNN 분류 모델\n",
    "cnn_model_class = Sequential([\n",
    "    Conv1D(32, 2, activation='relu', input_shape=(X_train_class_cnn.shape[1], 1)),\n",
    "    MaxPooling1D(2),\n",
    "    Flatten(),\n",
    "    Dense(64, activation='relu'),\n",
    "    Dense(1, activation='sigmoid')  # 이진 분류\n",
    "])\n",
    "\n",
    "cnn_model_class.compile(optimizer=Adam(), loss='binary_crossentropy', metrics=['accuracy'])\n",
    "cnn_model_class.fit(X_train_class_cnn, y_train_class, epochs=20, batch_size=32, validation_split=0.2)\n",
    "loss, accuracy = cnn_model_class.evaluate(X_test_class_cnn, y_test_class)\n",
    "print(f\"\\n=== CNN Classifier ===\\nTest Accuracy: {accuracy:.4f}\")"
   ]
  },
  {
   "cell_type": "code",
   "execution_count": 12,
   "id": "e230c04d-2b61-4ff7-bacb-94ba3cb58fc7",
   "metadata": {},
   "outputs": [],
   "source": [
    "# CNN 회귀 모델\n",
    "cnn_model_reg = Sequential([\n",
    "    Conv1D(32, 2, activation='relu', input_shape=(X_train_reg_cnn.shape[1], 1)),\n",
    "    MaxPooling1D(2),\n",
    "    Flatten(),\n",
    "    Dense(64, activation='relu'),\n",
    "    Dense(1)  # 회귀\n",
    "])"
   ]
  },
  {
   "cell_type": "code",
   "execution_count": 13,
   "id": "f19bf2c0-edfb-495a-ac93-67772ff0b29f",
   "metadata": {},
   "outputs": [
    {
     "name": "stdout",
     "output_type": "stream",
     "text": [
      "Epoch 1/20\n",
      "\u001b[1m84/84\u001b[0m \u001b[32m━━━━━━━━━━━━━━━━━━━━\u001b[0m\u001b[37m\u001b[0m \u001b[1m2s\u001b[0m 7ms/step - loss: 74.6290 - mse: 74.6290 - val_loss: 13.6120 - val_mse: 13.6120\n",
      "Epoch 2/20\n",
      "\u001b[1m84/84\u001b[0m \u001b[32m━━━━━━━━━━━━━━━━━━━━\u001b[0m\u001b[37m\u001b[0m \u001b[1m0s\u001b[0m 4ms/step - loss: 19.1889 - mse: 19.1889 - val_loss: 8.7764 - val_mse: 8.7764\n",
      "Epoch 3/20\n",
      "\u001b[1m84/84\u001b[0m \u001b[32m━━━━━━━━━━━━━━━━━━━━\u001b[0m\u001b[37m\u001b[0m \u001b[1m0s\u001b[0m 4ms/step - loss: 9.8041 - mse: 9.8041 - val_loss: 6.7028 - val_mse: 6.7028\n",
      "Epoch 4/20\n",
      "\u001b[1m84/84\u001b[0m \u001b[32m━━━━━━━━━━━━━━━━━━━━\u001b[0m\u001b[37m\u001b[0m \u001b[1m0s\u001b[0m 4ms/step - loss: 7.1013 - mse: 7.1013 - val_loss: 5.7344 - val_mse: 5.7344\n",
      "Epoch 5/20\n",
      "\u001b[1m84/84\u001b[0m \u001b[32m━━━━━━━━━━━━━━━━━━━━\u001b[0m\u001b[37m\u001b[0m \u001b[1m0s\u001b[0m 4ms/step - loss: 6.2151 - mse: 6.2151 - val_loss: 5.3849 - val_mse: 5.3849\n",
      "Epoch 6/20\n",
      "\u001b[1m84/84\u001b[0m \u001b[32m━━━━━━━━━━━━━━━━━━━━\u001b[0m\u001b[37m\u001b[0m \u001b[1m0s\u001b[0m 4ms/step - loss: 6.4067 - mse: 6.4067 - val_loss: 5.0891 - val_mse: 5.0891\n",
      "Epoch 7/20\n",
      "\u001b[1m84/84\u001b[0m \u001b[32m━━━━━━━━━━━━━━━━━━━━\u001b[0m\u001b[37m\u001b[0m \u001b[1m0s\u001b[0m 4ms/step - loss: 6.0601 - mse: 6.0601 - val_loss: 4.9177 - val_mse: 4.9177\n",
      "Epoch 8/20\n",
      "\u001b[1m84/84\u001b[0m \u001b[32m━━━━━━━━━━━━━━━━━━━━\u001b[0m\u001b[37m\u001b[0m \u001b[1m0s\u001b[0m 4ms/step - loss: 5.5972 - mse: 5.5972 - val_loss: 4.7848 - val_mse: 4.7848\n",
      "Epoch 9/20\n",
      "\u001b[1m84/84\u001b[0m \u001b[32m━━━━━━━━━━━━━━━━━━━━\u001b[0m\u001b[37m\u001b[0m \u001b[1m0s\u001b[0m 4ms/step - loss: 5.3933 - mse: 5.3933 - val_loss: 4.7128 - val_mse: 4.7128\n",
      "Epoch 10/20\n",
      "\u001b[1m84/84\u001b[0m \u001b[32m━━━━━━━━━━━━━━━━━━━━\u001b[0m\u001b[37m\u001b[0m \u001b[1m0s\u001b[0m 4ms/step - loss: 5.4674 - mse: 5.4674 - val_loss: 4.6393 - val_mse: 4.6393\n",
      "Epoch 11/20\n",
      "\u001b[1m84/84\u001b[0m \u001b[32m━━━━━━━━━━━━━━━━━━━━\u001b[0m\u001b[37m\u001b[0m \u001b[1m0s\u001b[0m 4ms/step - loss: 5.0651 - mse: 5.0651 - val_loss: 4.6934 - val_mse: 4.6934\n",
      "Epoch 12/20\n",
      "\u001b[1m84/84\u001b[0m \u001b[32m━━━━━━━━━━━━━━━━━━━━\u001b[0m\u001b[37m\u001b[0m \u001b[1m1s\u001b[0m 6ms/step - loss: 4.9463 - mse: 4.9463 - val_loss: 4.5789 - val_mse: 4.5789\n",
      "Epoch 13/20\n",
      "\u001b[1m84/84\u001b[0m \u001b[32m━━━━━━━━━━━━━━━━━━━━\u001b[0m\u001b[37m\u001b[0m \u001b[1m0s\u001b[0m 4ms/step - loss: 5.5244 - mse: 5.5244 - val_loss: 4.4745 - val_mse: 4.4745\n",
      "Epoch 14/20\n",
      "\u001b[1m84/84\u001b[0m \u001b[32m━━━━━━━━━━━━━━━━━━━━\u001b[0m\u001b[37m\u001b[0m \u001b[1m0s\u001b[0m 4ms/step - loss: 4.8550 - mse: 4.8550 - val_loss: 4.4486 - val_mse: 4.4486\n",
      "Epoch 15/20\n",
      "\u001b[1m84/84\u001b[0m \u001b[32m━━━━━━━━━━━━━━━━━━━━\u001b[0m\u001b[37m\u001b[0m \u001b[1m0s\u001b[0m 4ms/step - loss: 5.2571 - mse: 5.2571 - val_loss: 4.5026 - val_mse: 4.5026\n",
      "Epoch 16/20\n",
      "\u001b[1m84/84\u001b[0m \u001b[32m━━━━━━━━━━━━━━━━━━━━\u001b[0m\u001b[37m\u001b[0m \u001b[1m0s\u001b[0m 4ms/step - loss: 4.8604 - mse: 4.8604 - val_loss: 4.3387 - val_mse: 4.3387\n",
      "Epoch 17/20\n",
      "\u001b[1m84/84\u001b[0m \u001b[32m━━━━━━━━━━━━━━━━━━━━\u001b[0m\u001b[37m\u001b[0m \u001b[1m0s\u001b[0m 5ms/step - loss: 4.8395 - mse: 4.8395 - val_loss: 4.3863 - val_mse: 4.3863\n",
      "Epoch 18/20\n",
      "\u001b[1m84/84\u001b[0m \u001b[32m━━━━━━━━━━━━━━━━━━━━\u001b[0m\u001b[37m\u001b[0m \u001b[1m0s\u001b[0m 4ms/step - loss: 5.1378 - mse: 5.1378 - val_loss: 4.3890 - val_mse: 4.3890\n",
      "Epoch 19/20\n",
      "\u001b[1m84/84\u001b[0m \u001b[32m━━━━━━━━━━━━━━━━━━━━\u001b[0m\u001b[37m\u001b[0m \u001b[1m0s\u001b[0m 4ms/step - loss: 5.0209 - mse: 5.0209 - val_loss: 4.3952 - val_mse: 4.3952\n",
      "Epoch 20/20\n",
      "\u001b[1m84/84\u001b[0m \u001b[32m━━━━━━━━━━━━━━━━━━━━\u001b[0m\u001b[37m\u001b[0m \u001b[1m0s\u001b[0m 4ms/step - loss: 4.5318 - mse: 4.5318 - val_loss: 4.4065 - val_mse: 4.4065\n",
      "\u001b[1m27/27\u001b[0m \u001b[32m━━━━━━━━━━━━━━━━━━━━\u001b[0m\u001b[37m\u001b[0m \u001b[1m0s\u001b[0m 2ms/step - loss: 5.0761 - mse: 5.0761\n",
      "\n",
      "=== CNN Regressor ===\n",
      "Test Mean Squared Error: 4.9627\n"
     ]
    }
   ],
   "source": [
    "cnn_model_reg.compile(optimizer=Adam(), loss='mse', metrics=['mse'])\n",
    "cnn_model_reg.fit(X_train_reg_cnn, y_train_reg, epochs=20, batch_size=32, validation_split=0.2)\n",
    "loss, mse = cnn_model_reg.evaluate(X_test_reg_cnn, y_test_reg)\n",
    "print(f\"\\n=== CNN Regressor ===\\nTest Mean Squared Error: {mse:.4f}\")"
   ]
  },
  {
   "cell_type": "code",
   "execution_count": 14,
   "id": "ddd70d57-a649-4c33-97bd-adc31884bf70",
   "metadata": {},
   "outputs": [
    {
     "name": "stderr",
     "output_type": "stream",
     "text": [
      "C:\\Python312\\Lib\\site-packages\\keras\\src\\layers\\rnn\\rnn.py:204: UserWarning: Do not pass an `input_shape`/`input_dim` argument to a layer. When using Sequential models, prefer using an `Input(shape)` object as the first layer in the model instead.\n",
      "  super().__init__(**kwargs)\n"
     ]
    }
   ],
   "source": [
    "# LSTM 분류 모델\n",
    "lstm_model_class = Sequential([\n",
    "    LSTM(64, activation='relu', input_shape=(X_train_class_cnn.shape[1], 1)),\n",
    "    Dense(32, activation='relu'),\n",
    "    Dense(1, activation='sigmoid')  # 이진 분류\n",
    "])"
   ]
  },
  {
   "cell_type": "code",
   "execution_count": 15,
   "id": "eb6515f0-bf62-43ac-9717-8305fc587c47",
   "metadata": {},
   "outputs": [
    {
     "name": "stdout",
     "output_type": "stream",
     "text": [
      "Epoch 1/20\n",
      "\u001b[1m84/84\u001b[0m \u001b[32m━━━━━━━━━━━━━━━━━━━━\u001b[0m\u001b[37m\u001b[0m \u001b[1m5s\u001b[0m 15ms/step - accuracy: 0.7707 - loss: 0.5618 - val_accuracy: 0.8296 - val_loss: 0.3886\n",
      "Epoch 2/20\n",
      "\u001b[1m84/84\u001b[0m \u001b[32m━━━━━━━━━━━━━━━━━━━━\u001b[0m\u001b[37m\u001b[0m \u001b[1m1s\u001b[0m 7ms/step - accuracy: 0.8201 - loss: 0.4095 - val_accuracy: 0.8326 - val_loss: 0.3986\n",
      "Epoch 3/20\n",
      "\u001b[1m84/84\u001b[0m \u001b[32m━━━━━━━━━━━━━━━━━━━━\u001b[0m\u001b[37m\u001b[0m \u001b[1m1s\u001b[0m 8ms/step - accuracy: 0.8235 - loss: 0.4016 - val_accuracy: 0.8371 - val_loss: 0.3809\n",
      "Epoch 4/20\n",
      "\u001b[1m84/84\u001b[0m \u001b[32m━━━━━━━━━━━━━━━━━━━━\u001b[0m\u001b[37m\u001b[0m \u001b[1m1s\u001b[0m 7ms/step - accuracy: 0.8291 - loss: 0.3909 - val_accuracy: 0.8401 - val_loss: 0.3788\n",
      "Epoch 5/20\n",
      "\u001b[1m84/84\u001b[0m \u001b[32m━━━━━━━━━━━━━━━━━━━━\u001b[0m\u001b[37m\u001b[0m \u001b[1m1s\u001b[0m 6ms/step - accuracy: 0.8206 - loss: 0.4023 - val_accuracy: 0.8430 - val_loss: 0.3744\n",
      "Epoch 6/20\n",
      "\u001b[1m84/84\u001b[0m \u001b[32m━━━━━━━━━━━━━━━━━━━━\u001b[0m\u001b[37m\u001b[0m \u001b[1m1s\u001b[0m 6ms/step - accuracy: 0.8382 - loss: 0.3736 - val_accuracy: 0.8445 - val_loss: 0.3737\n",
      "Epoch 7/20\n",
      "\u001b[1m84/84\u001b[0m \u001b[32m━━━━━━━━━━━━━━━━━━━━\u001b[0m\u001b[37m\u001b[0m \u001b[1m1s\u001b[0m 7ms/step - accuracy: 0.8266 - loss: 0.3896 - val_accuracy: 0.8445 - val_loss: 0.3753\n",
      "Epoch 8/20\n",
      "\u001b[1m84/84\u001b[0m \u001b[32m━━━━━━━━━━━━━━━━━━━━\u001b[0m\u001b[37m\u001b[0m \u001b[1m1s\u001b[0m 7ms/step - accuracy: 0.8031 - loss: 0.4207 - val_accuracy: 0.8445 - val_loss: 0.3741\n",
      "Epoch 9/20\n",
      "\u001b[1m84/84\u001b[0m \u001b[32m━━━━━━━━━━━━━━━━━━━━\u001b[0m\u001b[37m\u001b[0m \u001b[1m1s\u001b[0m 9ms/step - accuracy: 0.8076 - loss: 0.4073 - val_accuracy: 0.8445 - val_loss: 0.3676\n",
      "Epoch 10/20\n",
      "\u001b[1m84/84\u001b[0m \u001b[32m━━━━━━━━━━━━━━━━━━━━\u001b[0m\u001b[37m\u001b[0m \u001b[1m1s\u001b[0m 7ms/step - accuracy: 0.8434 - loss: 0.3633 - val_accuracy: 0.8445 - val_loss: 0.3659\n",
      "Epoch 11/20\n",
      "\u001b[1m84/84\u001b[0m \u001b[32m━━━━━━━━━━━━━━━━━━━━\u001b[0m\u001b[37m\u001b[0m \u001b[1m1s\u001b[0m 8ms/step - accuracy: 0.8300 - loss: 0.3748 - val_accuracy: 0.8401 - val_loss: 0.3690\n",
      "Epoch 12/20\n",
      "\u001b[1m84/84\u001b[0m \u001b[32m━━━━━━━━━━━━━━━━━━━━\u001b[0m\u001b[37m\u001b[0m \u001b[1m1s\u001b[0m 6ms/step - accuracy: 0.8401 - loss: 0.3850 - val_accuracy: 0.8490 - val_loss: 0.3648\n",
      "Epoch 13/20\n",
      "\u001b[1m84/84\u001b[0m \u001b[32m━━━━━━━━━━━━━━━━━━━━\u001b[0m\u001b[37m\u001b[0m \u001b[1m1s\u001b[0m 7ms/step - accuracy: 0.8336 - loss: 0.3744 - val_accuracy: 0.8490 - val_loss: 0.3629\n",
      "Epoch 14/20\n",
      "\u001b[1m84/84\u001b[0m \u001b[32m━━━━━━━━━━━━━━━━━━━━\u001b[0m\u001b[37m\u001b[0m \u001b[1m1s\u001b[0m 7ms/step - accuracy: 0.8482 - loss: 0.3642 - val_accuracy: 0.8386 - val_loss: 0.3662\n",
      "Epoch 15/20\n",
      "\u001b[1m84/84\u001b[0m \u001b[32m━━━━━━━━━━━━━━━━━━━━\u001b[0m\u001b[37m\u001b[0m \u001b[1m1s\u001b[0m 6ms/step - accuracy: 0.8286 - loss: 0.3805 - val_accuracy: 0.8505 - val_loss: 0.3577\n",
      "Epoch 16/20\n",
      "\u001b[1m84/84\u001b[0m \u001b[32m━━━━━━━━━━━━━━━━━━━━\u001b[0m\u001b[37m\u001b[0m \u001b[1m1s\u001b[0m 6ms/step - accuracy: 0.8424 - loss: 0.3560 - val_accuracy: 0.8460 - val_loss: 0.3534\n",
      "Epoch 17/20\n",
      "\u001b[1m84/84\u001b[0m \u001b[32m━━━━━━━━━━━━━━━━━━━━\u001b[0m\u001b[37m\u001b[0m \u001b[1m1s\u001b[0m 7ms/step - accuracy: 0.8390 - loss: 0.3574 - val_accuracy: 0.8475 - val_loss: 0.3569\n",
      "Epoch 18/20\n",
      "\u001b[1m84/84\u001b[0m \u001b[32m━━━━━━━━━━━━━━━━━━━━\u001b[0m\u001b[37m\u001b[0m \u001b[1m1s\u001b[0m 6ms/step - accuracy: 0.8522 - loss: 0.3387 - val_accuracy: 0.8535 - val_loss: 0.3557\n",
      "Epoch 19/20\n",
      "\u001b[1m84/84\u001b[0m \u001b[32m━━━━━━━━━━━━━━━━━━━━\u001b[0m\u001b[37m\u001b[0m \u001b[1m1s\u001b[0m 6ms/step - accuracy: 0.8396 - loss: 0.3596 - val_accuracy: 0.8475 - val_loss: 0.3460\n",
      "Epoch 20/20\n",
      "\u001b[1m84/84\u001b[0m \u001b[32m━━━━━━━━━━━━━━━━━━━━\u001b[0m\u001b[37m\u001b[0m \u001b[1m1s\u001b[0m 7ms/step - accuracy: 0.8373 - loss: 0.3539 - val_accuracy: 0.8520 - val_loss: 0.3554\n",
      "\u001b[1m27/27\u001b[0m \u001b[32m━━━━━━━━━━━━━━━━━━━━\u001b[0m\u001b[37m\u001b[0m \u001b[1m0s\u001b[0m 3ms/step - accuracy: 0.8339 - loss: 0.3490\n",
      "\n",
      "=== LSTM Classifier ===\n",
      "Test Accuracy: 0.8266\n"
     ]
    }
   ],
   "source": [
    "lstm_model_class.compile(optimizer=Adam(), loss='binary_crossentropy', metrics=['accuracy'])\n",
    "lstm_model_class.fit(X_train_class_cnn, y_train_class, epochs=20, batch_size=32, validation_split=0.2)\n",
    "loss, accuracy = lstm_model_class.evaluate(X_test_class_cnn, y_test_class)\n",
    "print(f\"\\n=== LSTM Classifier ===\\nTest Accuracy: {accuracy:.4f}\")"
   ]
  },
  {
   "cell_type": "code",
   "execution_count": 16,
   "id": "614cd6a5-4283-4c5d-9328-42f3be64d50d",
   "metadata": {},
   "outputs": [],
   "source": [
    "# LSTM 회귀 모델\n",
    "lstm_model_reg = Sequential([\n",
    "    LSTM(64, activation='relu', input_shape=(X_train_reg_cnn.shape[1], 1)),\n",
    "    Dense(32, activation='relu'),\n",
    "    Dense(1)  # 회귀\n",
    "])"
   ]
  },
  {
   "cell_type": "code",
   "execution_count": 17,
   "id": "5f64a749-ac03-4834-bede-1497289a55af",
   "metadata": {},
   "outputs": [
    {
     "name": "stdout",
     "output_type": "stream",
     "text": [
      "Epoch 1/20\n",
      "\u001b[1m84/84\u001b[0m \u001b[32m━━━━━━━━━━━━━━━━━━━━\u001b[0m\u001b[37m\u001b[0m \u001b[1m4s\u001b[0m 13ms/step - loss: 86.8168 - mse: 86.8168 - val_loss: 21.6790 - val_mse: 21.6790\n",
      "Epoch 2/20\n",
      "\u001b[1m84/84\u001b[0m \u001b[32m━━━━━━━━━━━━━━━━━━━━\u001b[0m\u001b[37m\u001b[0m \u001b[1m1s\u001b[0m 7ms/step - loss: 12.8582 - mse: 12.8582 - val_loss: 8.1113 - val_mse: 8.1113\n",
      "Epoch 3/20\n",
      "\u001b[1m84/84\u001b[0m \u001b[32m━━━━━━━━━━━━━━━━━━━━\u001b[0m\u001b[37m\u001b[0m \u001b[1m1s\u001b[0m 7ms/step - loss: 8.1226 - mse: 8.1226 - val_loss: 6.3326 - val_mse: 6.3326\n",
      "Epoch 4/20\n",
      "\u001b[1m84/84\u001b[0m \u001b[32m━━━━━━━━━━━━━━━━━━━━\u001b[0m\u001b[37m\u001b[0m \u001b[1m1s\u001b[0m 6ms/step - loss: 7.5006 - mse: 7.5006 - val_loss: 5.9786 - val_mse: 5.9786\n",
      "Epoch 5/20\n",
      "\u001b[1m84/84\u001b[0m \u001b[32m━━━━━━━━━━━━━━━━━━━━\u001b[0m\u001b[37m\u001b[0m \u001b[1m1s\u001b[0m 7ms/step - loss: 5.8448 - mse: 5.8448 - val_loss: 6.9275 - val_mse: 6.9275\n",
      "Epoch 6/20\n",
      "\u001b[1m84/84\u001b[0m \u001b[32m━━━━━━━━━━━━━━━━━━━━\u001b[0m\u001b[37m\u001b[0m \u001b[1m1s\u001b[0m 7ms/step - loss: 6.2771 - mse: 6.2771 - val_loss: 5.4005 - val_mse: 5.4005\n",
      "Epoch 7/20\n",
      "\u001b[1m84/84\u001b[0m \u001b[32m━━━━━━━━━━━━━━━━━━━━\u001b[0m\u001b[37m\u001b[0m \u001b[1m1s\u001b[0m 7ms/step - loss: 6.2750 - mse: 6.2750 - val_loss: 5.1791 - val_mse: 5.1791\n",
      "Epoch 8/20\n",
      "\u001b[1m84/84\u001b[0m \u001b[32m━━━━━━━━━━━━━━━━━━━━\u001b[0m\u001b[37m\u001b[0m \u001b[1m1s\u001b[0m 7ms/step - loss: 6.7407 - mse: 6.7407 - val_loss: 5.1037 - val_mse: 5.1037\n",
      "Epoch 9/20\n",
      "\u001b[1m84/84\u001b[0m \u001b[32m━━━━━━━━━━━━━━━━━━━━\u001b[0m\u001b[37m\u001b[0m \u001b[1m1s\u001b[0m 7ms/step - loss: 5.8734 - mse: 5.8734 - val_loss: 4.9489 - val_mse: 4.9489\n",
      "Epoch 10/20\n",
      "\u001b[1m84/84\u001b[0m \u001b[32m━━━━━━━━━━━━━━━━━━━━\u001b[0m\u001b[37m\u001b[0m \u001b[1m1s\u001b[0m 6ms/step - loss: 5.4950 - mse: 5.4950 - val_loss: 4.6083 - val_mse: 4.6083\n",
      "Epoch 11/20\n",
      "\u001b[1m84/84\u001b[0m \u001b[32m━━━━━━━━━━━━━━━━━━━━\u001b[0m\u001b[37m\u001b[0m \u001b[1m1s\u001b[0m 6ms/step - loss: 6.0274 - mse: 6.0274 - val_loss: 4.5641 - val_mse: 4.5641\n",
      "Epoch 12/20\n",
      "\u001b[1m84/84\u001b[0m \u001b[32m━━━━━━━━━━━━━━━━━━━━\u001b[0m\u001b[37m\u001b[0m \u001b[1m1s\u001b[0m 7ms/step - loss: 4.8100 - mse: 4.8100 - val_loss: 4.7500 - val_mse: 4.7500\n",
      "Epoch 13/20\n",
      "\u001b[1m84/84\u001b[0m \u001b[32m━━━━━━━━━━━━━━━━━━━━\u001b[0m\u001b[37m\u001b[0m \u001b[1m1s\u001b[0m 7ms/step - loss: 4.6006 - mse: 4.6006 - val_loss: 4.5920 - val_mse: 4.5920\n",
      "Epoch 14/20\n",
      "\u001b[1m84/84\u001b[0m \u001b[32m━━━━━━━━━━━━━━━━━━━━\u001b[0m\u001b[37m\u001b[0m \u001b[1m1s\u001b[0m 8ms/step - loss: 5.1403 - mse: 5.1403 - val_loss: 4.3761 - val_mse: 4.3761\n",
      "Epoch 15/20\n",
      "\u001b[1m84/84\u001b[0m \u001b[32m━━━━━━━━━━━━━━━━━━━━\u001b[0m\u001b[37m\u001b[0m \u001b[1m1s\u001b[0m 7ms/step - loss: 4.9057 - mse: 4.9057 - val_loss: 4.2868 - val_mse: 4.2868\n",
      "Epoch 16/20\n",
      "\u001b[1m84/84\u001b[0m \u001b[32m━━━━━━━━━━━━━━━━━━━━\u001b[0m\u001b[37m\u001b[0m \u001b[1m1s\u001b[0m 6ms/step - loss: 4.4790 - mse: 4.4790 - val_loss: 4.3621 - val_mse: 4.3621\n",
      "Epoch 17/20\n",
      "\u001b[1m84/84\u001b[0m \u001b[32m━━━━━━━━━━━━━━━━━━━━\u001b[0m\u001b[37m\u001b[0m \u001b[1m1s\u001b[0m 6ms/step - loss: 4.2556 - mse: 4.2556 - val_loss: 4.2284 - val_mse: 4.2284\n",
      "Epoch 18/20\n",
      "\u001b[1m84/84\u001b[0m \u001b[32m━━━━━━━━━━━━━━━━━━━━\u001b[0m\u001b[37m\u001b[0m \u001b[1m1s\u001b[0m 6ms/step - loss: 5.2228 - mse: 5.2228 - val_loss: 5.9956 - val_mse: 5.9956\n",
      "Epoch 19/20\n",
      "\u001b[1m84/84\u001b[0m \u001b[32m━━━━━━━━━━━━━━━━━━━━\u001b[0m\u001b[37m\u001b[0m \u001b[1m1s\u001b[0m 6ms/step - loss: 4.9607 - mse: 4.9607 - val_loss: 4.7612 - val_mse: 4.7612\n",
      "Epoch 20/20\n",
      "\u001b[1m84/84\u001b[0m \u001b[32m━━━━━━━━━━━━━━━━━━━━\u001b[0m\u001b[37m\u001b[0m \u001b[1m1s\u001b[0m 7ms/step - loss: 4.7823 - mse: 4.7823 - val_loss: 4.0575 - val_mse: 4.0575\n",
      "\u001b[1m27/27\u001b[0m \u001b[32m━━━━━━━━━━━━━━━━━━━━\u001b[0m\u001b[37m\u001b[0m \u001b[1m0s\u001b[0m 4ms/step - loss: 4.9984 - mse: 4.9984\n",
      "\n",
      "=== LSTM Regressor ===\n",
      "Test Mean Squared Error: 4.5834\n"
     ]
    }
   ],
   "source": [
    "lstm_model_reg.compile(optimizer=Adam(), loss='mse', metrics=['mse'])\n",
    "lstm_model_reg.fit(X_train_reg_cnn, y_train_reg, epochs=20, batch_size=32, validation_split=0.2)\n",
    "loss, mse = lstm_model_reg.evaluate(X_test_reg_cnn, y_test_reg)\n",
    "print(f\"\\n=== LSTM Regressor ===\\nTest Mean Squared Error: {mse:.4f}\")"
   ]
  },
  {
   "cell_type": "code",
   "execution_count": null,
   "id": "bf6853e7-bbbd-4c90-bb19-6d2874edcda8",
   "metadata": {},
   "outputs": [],
   "source": []
  }
 ],
 "metadata": {
  "kernelspec": {
   "display_name": "Python 3 (ipykernel)",
   "language": "python",
   "name": "python3"
  },
  "language_info": {
   "codemirror_mode": {
    "name": "ipython",
    "version": 3
   },
   "file_extension": ".py",
   "mimetype": "text/x-python",
   "name": "python",
   "nbconvert_exporter": "python",
   "pygments_lexer": "ipython3",
   "version": "3.12.2"
  }
 },
 "nbformat": 4,
 "nbformat_minor": 5
}
