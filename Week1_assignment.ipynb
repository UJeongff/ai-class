{
 "cells": [
  {
   "cell_type": "markdown",
   "id": "a321062e-2e67-4f61-b50d-46e903d42b63",
   "metadata": {},
   "source": [
    "### 전복 데이터를 가지고, 머신러닝 분류, 회귀 / 신경망 분류, 회귀를 각각 수행하라. \n",
    "레이블은 둘다 Ring"
   ]
  },
  {
   "cell_type": "code",
   "execution_count": 4,
   "id": "8a7d1ca1-0604-437c-b1dc-4ee6b67d2ccf",
   "metadata": {},
   "outputs": [],
   "source": [
    "import pandas as pd\n",
    "from sklearn.model_selection import train_test_split\n",
    "from sklearn.preprocessing import StandardScaler, LabelEncoder\n",
    "from sklearn.metrics import accuracy_score, classification_report, mean_squared_error, r2_score\n",
    "from sklearn.ensemble import RandomForestClassifier, RandomForestRegressor\n",
    "from sklearn.linear_model import LogisticRegression\n",
    "from tensorflow.keras.models import Sequential\n",
    "from tensorflow.keras.layers import Dense\n",
    "import tensorflow as tf"
   ]
  },
  {
   "cell_type": "code",
   "execution_count": 2,
   "id": "6765ed36-eb84-4887-bc3f-4260dd7b2e08",
   "metadata": {},
   "outputs": [],
   "source": [
    "url = \"C:/Users/dnwjd/OneDrive/Desktop/CSE_6/딥러닝/AI-class-main/AI-class-main/abalone.csv\"\n",
    "data = pd.read_csv(url)"
   ]
  },
  {
   "cell_type": "code",
   "execution_count": 3,
   "id": "18f5775f-4bd0-40aa-aba2-127945f120cc",
   "metadata": {},
   "outputs": [
    {
     "name": "stdout",
     "output_type": "stream",
     "text": [
      "   id Sex  Length  Diameter  Height  Whole_weight  Shucked_weight  \\\n",
      "0   0   M   0.455     0.365   0.095        0.5140          0.2245   \n",
      "1   1   M   0.350     0.265   0.090        0.2255          0.0995   \n",
      "2   2   F   0.530     0.420   0.135        0.6770          0.2565   \n",
      "3   3   M   0.440     0.365   0.125        0.5160          0.2155   \n",
      "4   4   I   0.330     0.255   0.080        0.2050          0.0895   \n",
      "\n",
      "   Viscera_weight  Shell_weight  Rings  \n",
      "0          0.1010         0.150     15  \n",
      "1          0.0485         0.070      7  \n",
      "2          0.1415         0.210      9  \n",
      "3          0.1140         0.155     10  \n",
      "4          0.0395         0.055      7  \n"
     ]
    }
   ],
   "source": [
    "print(data.head())"
   ]
  },
  {
   "cell_type": "code",
   "execution_count": 7,
   "id": "a6dbfd95-2d27-4a92-985c-9772bd428f5c",
   "metadata": {},
   "outputs": [],
   "source": [
    "# 전처리\n",
    "label_encoder = LabelEncoder()\n",
    "data['Sex'] = label_encoder.fit_transform(data['Sex'])"
   ]
  },
  {
   "cell_type": "code",
   "execution_count": 8,
   "id": "d420a7e3-cc7c-4cad-94aa-3ba149e93efc",
   "metadata": {},
   "outputs": [],
   "source": [
    "# Ring을 기준으로 분류 레이블 생성\n",
    "data['Ring_Class'] = (data['Rings'] >= data['Rings'].median()).astype(int)  # 중간값 기준 이진 분류"
   ]
  },
  {
   "cell_type": "markdown",
   "id": "cd919916-1982-4a53-ab83-da2cf40c231a",
   "metadata": {},
   "source": [
    "##### 머신러닝 분류: 링 수를 기준으로 데이터를 분류하는 작업을 수행합니다."
   ]
  },
  {
   "cell_type": "code",
   "execution_count": 10,
   "id": "9acad3c9-1144-4105-b1c3-894cade85308",
   "metadata": {},
   "outputs": [],
   "source": [
    "X_class = data.drop(['Rings', 'Ring_Class'], axis=1)\n",
    "y_class = data['Ring_Class']"
   ]
  },
  {
   "cell_type": "code",
   "execution_count": 11,
   "id": "477f87fc-dec3-49eb-bf46-98b71a73127e",
   "metadata": {},
   "outputs": [],
   "source": [
    "X_train_class, X_test_class, y_train_class, y_test_class = train_test_split(X_class, y_class, test_size=0.2, random_state=42)"
   ]
  },
  {
   "cell_type": "code",
   "execution_count": 12,
   "id": "cc9004f4-631d-4664-a63a-e12b4896c2e9",
   "metadata": {},
   "outputs": [],
   "source": [
    "scaler_class = StandardScaler()\n",
    "X_train_class = scaler_class.fit_transform(X_train_class)\n",
    "X_test_class = scaler_class.transform(X_test_class)"
   ]
  },
  {
   "cell_type": "code",
   "execution_count": 13,
   "id": "ca33a8d2-dd8b-41c9-92a0-94c5bb60732f",
   "metadata": {},
   "outputs": [],
   "source": [
    "# Random Forest 분류\n",
    "rf_classifier = RandomForestClassifier(random_state=42)\n",
    "rf_classifier.fit(X_train_class, y_train_class)\n",
    "y_pred_class = rf_classifier.predict(X_test_class)"
   ]
  },
  {
   "cell_type": "code",
   "execution_count": 14,
   "id": "651f3be2-1923-4315-b7b2-c0dae32c21ce",
   "metadata": {},
   "outputs": [
    {
     "name": "stdout",
     "output_type": "stream",
     "text": [
      "=== Random Forest Classifier ===\n",
      "Accuracy: 0.8529\n",
      "              precision    recall  f1-score   support\n",
      "\n",
      "           0       0.82      0.72      0.77       279\n",
      "           1       0.87      0.92      0.89       557\n",
      "\n",
      "    accuracy                           0.85       836\n",
      "   macro avg       0.84      0.82      0.83       836\n",
      "weighted avg       0.85      0.85      0.85       836\n",
      "\n"
     ]
    }
   ],
   "source": [
    "# 성능 평가\n",
    "print(\"=== Random Forest Classifier ===\")\n",
    "print(f\"Accuracy: {accuracy_score(y_test_class, y_pred_class):.4f}\")\n",
    "print(classification_report(y_test_class, y_pred_class))"
   ]
  },
  {
   "cell_type": "markdown",
   "id": "a08a8b62-4f6c-47b2-aa5a-492ea04990d3",
   "metadata": {},
   "source": [
    "머신러닝 회귀: 링 수를 예측하는 회귀 작업을 수행합니다."
   ]
  },
  {
   "cell_type": "code",
   "execution_count": 15,
   "id": "547b3848-a595-43a0-9e71-9a817e0a5551",
   "metadata": {},
   "outputs": [],
   "source": [
    "X_reg = data.drop(['Rings'], axis=1)\n",
    "y_reg = data['Rings']"
   ]
  },
  {
   "cell_type": "code",
   "execution_count": 16,
   "id": "9246e322-9087-4a09-ab85-0b3335cf4bb4",
   "metadata": {},
   "outputs": [],
   "source": [
    "X_train_reg, X_test_reg, y_train_reg, y_test_reg = train_test_split(X_reg, y_reg, test_size=0.2, random_state=42)"
   ]
  },
  {
   "cell_type": "code",
   "execution_count": 17,
   "id": "f88ba563-d56c-4ded-b2bf-06d33198bcd3",
   "metadata": {},
   "outputs": [],
   "source": [
    "scaler_reg = StandardScaler()\n",
    "X_train_reg = scaler_reg.fit_transform(X_train_reg)\n",
    "X_test_reg = scaler_reg.transform(X_test_reg)"
   ]
  },
  {
   "cell_type": "code",
   "execution_count": 18,
   "id": "d950e2e7-e984-418b-ae7e-3a6f9438af25",
   "metadata": {},
   "outputs": [],
   "source": [
    "rf_regressor = RandomForestRegressor(random_state=42)\n",
    "rf_regressor.fit(X_train_reg, y_train_reg)\n",
    "y_pred_reg = rf_regressor.predict(X_test_reg)"
   ]
  },
  {
   "cell_type": "code",
   "execution_count": 19,
   "id": "23abf4c4-1890-44a9-b1aa-01f0f9d04f78",
   "metadata": {},
   "outputs": [
    {
     "name": "stdout",
     "output_type": "stream",
     "text": [
      "=== Random Forest Regressor ===\n",
      "Mean Squared Error: 3.2417\n",
      "R^2 Score: 0.7005\n"
     ]
    }
   ],
   "source": [
    "print(\"=== Random Forest Regressor ===\")\n",
    "print(f\"Mean Squared Error: {mean_squared_error(y_test_reg, y_pred_reg):.4f}\")\n",
    "print(f\"R^2 Score: {r2_score(y_test_reg, y_pred_reg):.4f}\")"
   ]
  },
  {
   "cell_type": "markdown",
   "id": "6bd163bf-c038-46fa-87fa-8bbbfccdfe20",
   "metadata": {},
   "source": [
    "신경망 분류: Dense Layer를 사용하여 신경망으로 분류 작업을 수행합니다."
   ]
  },
  {
   "cell_type": "code",
   "execution_count": 20,
   "id": "4c77ecd8-6a2b-49d6-9f6a-80fac463ec18",
   "metadata": {},
   "outputs": [
    {
     "name": "stderr",
     "output_type": "stream",
     "text": [
      "C:\\Python312\\Lib\\site-packages\\keras\\src\\layers\\core\\dense.py:87: UserWarning: Do not pass an `input_shape`/`input_dim` argument to a layer. When using Sequential models, prefer using an `Input(shape)` object as the first layer in the model instead.\n",
      "  super().__init__(activity_regularizer=activity_regularizer, **kwargs)\n"
     ]
    }
   ],
   "source": [
    "model_class = Sequential([\n",
    "    Dense(64, activation='relu', input_shape=(X_train_class.shape[1],)),\n",
    "    Dense(32, activation='relu'),\n",
    "    Dense(1, activation='sigmoid')  # 이진 분류를 위한 시그모이드 활성화 함수\n",
    "])"
   ]
  },
  {
   "cell_type": "code",
   "execution_count": 21,
   "id": "ccd72add-0248-485a-b691-d545170d1c2c",
   "metadata": {},
   "outputs": [
    {
     "name": "stdout",
     "output_type": "stream",
     "text": [
      "Epoch 1/20\n",
      "\u001b[1m84/84\u001b[0m \u001b[32m━━━━━━━━━━━━━━━━━━━━\u001b[0m\u001b[37m\u001b[0m \u001b[1m2s\u001b[0m 6ms/step - accuracy: 0.7660 - loss: 0.5322 - val_accuracy: 0.8296 - val_loss: 0.3790\n",
      "Epoch 2/20\n",
      "\u001b[1m84/84\u001b[0m \u001b[32m━━━━━━━━━━━━━━━━━━━━\u001b[0m\u001b[37m\u001b[0m \u001b[1m0s\u001b[0m 2ms/step - accuracy: 0.8216 - loss: 0.3994 - val_accuracy: 0.8460 - val_loss: 0.3612\n",
      "Epoch 3/20\n",
      "\u001b[1m84/84\u001b[0m \u001b[32m━━━━━━━━━━━━━━━━━━━━\u001b[0m\u001b[37m\u001b[0m \u001b[1m0s\u001b[0m 2ms/step - accuracy: 0.8305 - loss: 0.3823 - val_accuracy: 0.8386 - val_loss: 0.3618\n",
      "Epoch 4/20\n",
      "\u001b[1m84/84\u001b[0m \u001b[32m━━━━━━━━━━━━━━━━━━━━\u001b[0m\u001b[37m\u001b[0m \u001b[1m0s\u001b[0m 2ms/step - accuracy: 0.8336 - loss: 0.3744 - val_accuracy: 0.8401 - val_loss: 0.3453\n",
      "Epoch 5/20\n",
      "\u001b[1m84/84\u001b[0m \u001b[32m━━━━━━━━━━━━━━━━━━━━\u001b[0m\u001b[37m\u001b[0m \u001b[1m0s\u001b[0m 3ms/step - accuracy: 0.8365 - loss: 0.3703 - val_accuracy: 0.8401 - val_loss: 0.3425\n",
      "Epoch 6/20\n",
      "\u001b[1m84/84\u001b[0m \u001b[32m━━━━━━━━━━━━━━━━━━━━\u001b[0m\u001b[37m\u001b[0m \u001b[1m0s\u001b[0m 3ms/step - accuracy: 0.8469 - loss: 0.3567 - val_accuracy: 0.8460 - val_loss: 0.3376\n",
      "Epoch 7/20\n",
      "\u001b[1m84/84\u001b[0m \u001b[32m━━━━━━━━━━━━━━━━━━━━\u001b[0m\u001b[37m\u001b[0m \u001b[1m0s\u001b[0m 3ms/step - accuracy: 0.8483 - loss: 0.3418 - val_accuracy: 0.8401 - val_loss: 0.3354\n",
      "Epoch 8/20\n",
      "\u001b[1m84/84\u001b[0m \u001b[32m━━━━━━━━━━━━━━━━━━━━\u001b[0m\u001b[37m\u001b[0m \u001b[1m0s\u001b[0m 3ms/step - accuracy: 0.8591 - loss: 0.3322 - val_accuracy: 0.8356 - val_loss: 0.3392\n",
      "Epoch 9/20\n",
      "\u001b[1m84/84\u001b[0m \u001b[32m━━━━━━━━━━━━━━━━━━━━\u001b[0m\u001b[37m\u001b[0m \u001b[1m0s\u001b[0m 3ms/step - accuracy: 0.8332 - loss: 0.3633 - val_accuracy: 0.8445 - val_loss: 0.3377\n",
      "Epoch 10/20\n",
      "\u001b[1m84/84\u001b[0m \u001b[32m━━━━━━━━━━━━━━━━━━━━\u001b[0m\u001b[37m\u001b[0m \u001b[1m0s\u001b[0m 3ms/step - accuracy: 0.8553 - loss: 0.3372 - val_accuracy: 0.8386 - val_loss: 0.3327\n",
      "Epoch 11/20\n",
      "\u001b[1m84/84\u001b[0m \u001b[32m━━━━━━━━━━━━━━━━━━━━\u001b[0m\u001b[37m\u001b[0m \u001b[1m0s\u001b[0m 3ms/step - accuracy: 0.8534 - loss: 0.3246 - val_accuracy: 0.8371 - val_loss: 0.3332\n",
      "Epoch 12/20\n",
      "\u001b[1m84/84\u001b[0m \u001b[32m━━━━━━━━━━━━━━━━━━━━\u001b[0m\u001b[37m\u001b[0m \u001b[1m0s\u001b[0m 2ms/step - accuracy: 0.8467 - loss: 0.3454 - val_accuracy: 0.8416 - val_loss: 0.3413\n",
      "Epoch 13/20\n",
      "\u001b[1m84/84\u001b[0m \u001b[32m━━━━━━━━━━━━━━━━━━━━\u001b[0m\u001b[37m\u001b[0m \u001b[1m0s\u001b[0m 3ms/step - accuracy: 0.8569 - loss: 0.3230 - val_accuracy: 0.8401 - val_loss: 0.3356\n",
      "Epoch 14/20\n",
      "\u001b[1m84/84\u001b[0m \u001b[32m━━━━━━━━━━━━━━━━━━━━\u001b[0m\u001b[37m\u001b[0m \u001b[1m0s\u001b[0m 3ms/step - accuracy: 0.8477 - loss: 0.3332 - val_accuracy: 0.8475 - val_loss: 0.3338\n",
      "Epoch 15/20\n",
      "\u001b[1m84/84\u001b[0m \u001b[32m━━━━━━━━━━━━━━━━━━━━\u001b[0m\u001b[37m\u001b[0m \u001b[1m0s\u001b[0m 3ms/step - accuracy: 0.8496 - loss: 0.3247 - val_accuracy: 0.8416 - val_loss: 0.3330\n",
      "Epoch 16/20\n",
      "\u001b[1m84/84\u001b[0m \u001b[32m━━━━━━━━━━━━━━━━━━━━\u001b[0m\u001b[37m\u001b[0m \u001b[1m0s\u001b[0m 2ms/step - accuracy: 0.8523 - loss: 0.3212 - val_accuracy: 0.8430 - val_loss: 0.3344\n",
      "Epoch 17/20\n",
      "\u001b[1m84/84\u001b[0m \u001b[32m━━━━━━━━━━━━━━━━━━━━\u001b[0m\u001b[37m\u001b[0m \u001b[1m0s\u001b[0m 3ms/step - accuracy: 0.8462 - loss: 0.3360 - val_accuracy: 0.8490 - val_loss: 0.3371\n",
      "Epoch 18/20\n",
      "\u001b[1m84/84\u001b[0m \u001b[32m━━━━━━━━━━━━━━━━━━━━\u001b[0m\u001b[37m\u001b[0m \u001b[1m0s\u001b[0m 3ms/step - accuracy: 0.8499 - loss: 0.3477 - val_accuracy: 0.8475 - val_loss: 0.3321\n",
      "Epoch 19/20\n",
      "\u001b[1m84/84\u001b[0m \u001b[32m━━━━━━━━━━━━━━━━━━━━\u001b[0m\u001b[37m\u001b[0m \u001b[1m0s\u001b[0m 2ms/step - accuracy: 0.8634 - loss: 0.3172 - val_accuracy: 0.8430 - val_loss: 0.3318\n",
      "Epoch 20/20\n",
      "\u001b[1m84/84\u001b[0m \u001b[32m━━━━━━━━━━━━━━━━━━━━\u001b[0m\u001b[37m\u001b[0m \u001b[1m0s\u001b[0m 3ms/step - accuracy: 0.8473 - loss: 0.3354 - val_accuracy: 0.8520 - val_loss: 0.3293\n",
      "\u001b[1m27/27\u001b[0m \u001b[32m━━━━━━━━━━━━━━━━━━━━\u001b[0m\u001b[37m\u001b[0m \u001b[1m0s\u001b[0m 2ms/step - accuracy: 0.8660 - loss: 0.3180 \n",
      "\n",
      "=== Neural Network Classifier ===\n",
      "Test Accuracy: 0.8517\n"
     ]
    }
   ],
   "source": [
    "model_class.compile(optimizer='adam', loss='binary_crossentropy', metrics=['accuracy'])\n",
    "model_class.fit(X_train_class, y_train_class, epochs=20, batch_size=32, validation_split=0.2)\n",
    "loss, accuracy = model_class.evaluate(X_test_class, y_test_class)\n",
    "print(f\"\\n=== Neural Network Classifier ===\\nTest Accuracy: {accuracy:.4f}\")"
   ]
  },
  {
   "cell_type": "markdown",
   "id": "b23246ff-ee36-48ba-9a93-9dd173abe467",
   "metadata": {},
   "source": [
    "신경망 회귀: Dense Layer를 사용하여 신경망으로 회귀 작업을 수행합니다."
   ]
  },
  {
   "cell_type": "code",
   "execution_count": 22,
   "id": "a705e2bd-f125-4290-a11c-e8e803f25ea5",
   "metadata": {},
   "outputs": [],
   "source": [
    "model_reg = Sequential([\n",
    "    Dense(64, activation='relu', input_shape=(X_train_reg.shape[1],)),\n",
    "    Dense(32, activation='relu'),\n",
    "    Dense(1)  # 회귀를 위한 출력층\n",
    "])"
   ]
  },
  {
   "cell_type": "code",
   "execution_count": 23,
   "id": "230b303d-cfe8-4215-bbd4-d24c2342df40",
   "metadata": {},
   "outputs": [
    {
     "name": "stdout",
     "output_type": "stream",
     "text": [
      "Epoch 1/20\n",
      "\u001b[1m84/84\u001b[0m \u001b[32m━━━━━━━━━━━━━━━━━━━━\u001b[0m\u001b[37m\u001b[0m \u001b[1m2s\u001b[0m 5ms/step - loss: 81.1542 - mse: 81.1542 - val_loss: 20.1999 - val_mse: 20.1999\n",
      "Epoch 2/20\n",
      "\u001b[1m84/84\u001b[0m \u001b[32m━━━━━━━━━━━━━━━━━━━━\u001b[0m\u001b[37m\u001b[0m \u001b[1m0s\u001b[0m 2ms/step - loss: 16.5478 - mse: 16.5478 - val_loss: 5.8743 - val_mse: 5.8743\n",
      "Epoch 3/20\n",
      "\u001b[1m84/84\u001b[0m \u001b[32m━━━━━━━━━━━━━━━━━━━━\u001b[0m\u001b[37m\u001b[0m \u001b[1m0s\u001b[0m 2ms/step - loss: 5.6701 - mse: 5.6701 - val_loss: 4.2901 - val_mse: 4.2901\n",
      "Epoch 4/20\n",
      "\u001b[1m84/84\u001b[0m \u001b[32m━━━━━━━━━━━━━━━━━━━━\u001b[0m\u001b[37m\u001b[0m \u001b[1m0s\u001b[0m 3ms/step - loss: 5.5409 - mse: 5.5409 - val_loss: 4.0856 - val_mse: 4.0856\n",
      "Epoch 5/20\n",
      "\u001b[1m84/84\u001b[0m \u001b[32m━━━━━━━━━━━━━━━━━━━━\u001b[0m\u001b[37m\u001b[0m \u001b[1m0s\u001b[0m 3ms/step - loss: 4.8152 - mse: 4.8152 - val_loss: 3.8778 - val_mse: 3.8778\n",
      "Epoch 6/20\n",
      "\u001b[1m84/84\u001b[0m \u001b[32m━━━━━━━━━━━━━━━━━━━━\u001b[0m\u001b[37m\u001b[0m \u001b[1m0s\u001b[0m 2ms/step - loss: 4.8390 - mse: 4.8390 - val_loss: 3.6946 - val_mse: 3.6946\n",
      "Epoch 7/20\n",
      "\u001b[1m84/84\u001b[0m \u001b[32m━━━━━━━━━━━━━━━━━━━━\u001b[0m\u001b[37m\u001b[0m \u001b[1m0s\u001b[0m 3ms/step - loss: 4.3844 - mse: 4.3844 - val_loss: 3.6845 - val_mse: 3.6845\n",
      "Epoch 8/20\n",
      "\u001b[1m84/84\u001b[0m \u001b[32m━━━━━━━━━━━━━━━━━━━━\u001b[0m\u001b[37m\u001b[0m \u001b[1m0s\u001b[0m 2ms/step - loss: 3.9563 - mse: 3.9563 - val_loss: 3.5349 - val_mse: 3.5349\n",
      "Epoch 9/20\n",
      "\u001b[1m84/84\u001b[0m \u001b[32m━━━━━━━━━━━━━━━━━━━━\u001b[0m\u001b[37m\u001b[0m \u001b[1m0s\u001b[0m 2ms/step - loss: 3.7204 - mse: 3.7204 - val_loss: 3.5162 - val_mse: 3.5162\n",
      "Epoch 10/20\n",
      "\u001b[1m84/84\u001b[0m \u001b[32m━━━━━━━━━━━━━━━━━━━━\u001b[0m\u001b[37m\u001b[0m \u001b[1m0s\u001b[0m 3ms/step - loss: 3.7116 - mse: 3.7116 - val_loss: 3.4521 - val_mse: 3.4521\n",
      "Epoch 11/20\n",
      "\u001b[1m84/84\u001b[0m \u001b[32m━━━━━━━━━━━━━━━━━━━━\u001b[0m\u001b[37m\u001b[0m \u001b[1m0s\u001b[0m 3ms/step - loss: 4.0903 - mse: 4.0903 - val_loss: 3.4385 - val_mse: 3.4385\n",
      "Epoch 12/20\n",
      "\u001b[1m84/84\u001b[0m \u001b[32m━━━━━━━━━━━━━━━━━━━━\u001b[0m\u001b[37m\u001b[0m \u001b[1m0s\u001b[0m 3ms/step - loss: 3.9967 - mse: 3.9967 - val_loss: 3.3966 - val_mse: 3.3966\n",
      "Epoch 13/20\n",
      "\u001b[1m84/84\u001b[0m \u001b[32m━━━━━━━━━━━━━━━━━━━━\u001b[0m\u001b[37m\u001b[0m \u001b[1m0s\u001b[0m 3ms/step - loss: 3.6038 - mse: 3.6038 - val_loss: 3.3804 - val_mse: 3.3804\n",
      "Epoch 14/20\n",
      "\u001b[1m84/84\u001b[0m \u001b[32m━━━━━━━━━━━━━━━━━━━━\u001b[0m\u001b[37m\u001b[0m \u001b[1m0s\u001b[0m 3ms/step - loss: 3.8182 - mse: 3.8182 - val_loss: 3.3366 - val_mse: 3.3366\n",
      "Epoch 15/20\n",
      "\u001b[1m84/84\u001b[0m \u001b[32m━━━━━━━━━━━━━━━━━━━━\u001b[0m\u001b[37m\u001b[0m \u001b[1m0s\u001b[0m 3ms/step - loss: 3.6242 - mse: 3.6242 - val_loss: 3.2836 - val_mse: 3.2836\n",
      "Epoch 16/20\n",
      "\u001b[1m84/84\u001b[0m \u001b[32m━━━━━━━━━━━━━━━━━━━━\u001b[0m\u001b[37m\u001b[0m \u001b[1m0s\u001b[0m 3ms/step - loss: 3.7833 - mse: 3.7833 - val_loss: 3.2801 - val_mse: 3.2801\n",
      "Epoch 17/20\n",
      "\u001b[1m84/84\u001b[0m \u001b[32m━━━━━━━━━━━━━━━━━━━━\u001b[0m\u001b[37m\u001b[0m \u001b[1m0s\u001b[0m 3ms/step - loss: 3.7352 - mse: 3.7352 - val_loss: 3.2382 - val_mse: 3.2382\n",
      "Epoch 18/20\n",
      "\u001b[1m84/84\u001b[0m \u001b[32m━━━━━━━━━━━━━━━━━━━━\u001b[0m\u001b[37m\u001b[0m \u001b[1m0s\u001b[0m 3ms/step - loss: 3.4418 - mse: 3.4418 - val_loss: 3.3029 - val_mse: 3.3029\n",
      "Epoch 19/20\n",
      "\u001b[1m84/84\u001b[0m \u001b[32m━━━━━━━━━━━━━━━━━━━━\u001b[0m\u001b[37m\u001b[0m \u001b[1m0s\u001b[0m 2ms/step - loss: 3.4789 - mse: 3.4789 - val_loss: 3.3329 - val_mse: 3.3329\n",
      "Epoch 20/20\n",
      "\u001b[1m84/84\u001b[0m \u001b[32m━━━━━━━━━━━━━━━━━━━━\u001b[0m\u001b[37m\u001b[0m \u001b[1m0s\u001b[0m 2ms/step - loss: 3.3111 - mse: 3.3111 - val_loss: 3.2253 - val_mse: 3.2253\n",
      "\u001b[1m27/27\u001b[0m \u001b[32m━━━━━━━━━━━━━━━━━━━━\u001b[0m\u001b[37m\u001b[0m \u001b[1m0s\u001b[0m 2ms/step - loss: 3.9650 - mse: 3.9650 \n",
      "\n",
      "=== Neural Network Regressor ===\n",
      "Test Mean Squared Error: 3.7236\n"
     ]
    }
   ],
   "source": [
    "model_reg.compile(optimizer='adam', loss='mse', metrics=['mse'])\n",
    "model_reg.fit(X_train_reg, y_train_reg, epochs=20, batch_size=32, validation_split=0.2)\n",
    "loss, mse = model_reg.evaluate(X_test_reg, y_test_reg)\n",
    "print(f\"\\n=== Neural Network Regressor ===\\nTest Mean Squared Error: {mse:.4f}\")"
   ]
  },
  {
   "cell_type": "code",
   "execution_count": null,
   "id": "5990f5c1-a828-4478-a5cf-f8da5508a34c",
   "metadata": {},
   "outputs": [],
   "source": []
  }
 ],
 "metadata": {
  "kernelspec": {
   "display_name": "Python 3 (ipykernel)",
   "language": "python",
   "name": "python3"
  },
  "language_info": {
   "codemirror_mode": {
    "name": "ipython",
    "version": 3
   },
   "file_extension": ".py",
   "mimetype": "text/x-python",
   "name": "python",
   "nbconvert_exporter": "python",
   "pygments_lexer": "ipython3",
   "version": "3.12.2"
  }
 },
 "nbformat": 4,
 "nbformat_minor": 5
}
