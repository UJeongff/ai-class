{
 "cells": [
  {
   "cell_type": "code",
   "execution_count": 42,
   "id": "110ec9f0-f59f-4965-84d3-8ecdecceeb2b",
   "metadata": {},
   "outputs": [],
   "source": [
    "import pandas as pd\n",
    "from sklearn.model_selection import train_test_split\n",
    "from sklearn.preprocessing import StandardScaler, LabelEncoder\n",
    "from sklearn.metrics import accuracy_score, classification_report, mean_squared_error, r2_score\n",
    "from sklearn.ensemble import RandomForestClassifier, RandomForestRegressor\n",
    "from sklearn.linear_model import LogisticRegression\n",
    "from tensorflow.keras.models import Sequential\n",
    "from tensorflow.keras.layers import Dense\n",
    "import tensorflow as tf"
   ]
  },
  {
   "cell_type": "code",
   "execution_count": 43,
   "id": "d2a00900-76dd-4562-96be-eda0b0b03f81",
   "metadata": {},
   "outputs": [],
   "source": [
    "url = \"http://archive.ics.uci.edu/ml/machine-learning-databases/auto-mpg/auto-mpg.data\"\n",
    "data = pd.read_csv(url)"
   ]
  },
  {
   "cell_type": "code",
   "execution_count": 62,
   "id": "a85e6a48-ffa7-45ff-93f8-dd5b015e7703",
   "metadata": {},
   "outputs": [
    {
     "name": "stdout",
     "output_type": "stream",
     "text": [
      "  18.0   8   307.0      130.0      3504.      12.0   70  1\\t\"chevrolet chevelle malibu\"\n",
      "0  15.0   8   350.0      165.0      3693.      11...                                   \n",
      "1  18.0   8   318.0      150.0      3436.      11...                                   \n",
      "2  16.0   8   304.0      150.0      3433.      12...                                   \n",
      "3  17.0   8   302.0      140.0      3449.      10...                                   \n",
      "4  15.0   8   429.0      198.0      4341.      10...                                   \n",
      "['mpg', 'cylinders', 'displacement', 'horsepower', 'weight', 'acceleration', 'model year', 'origin', 'cname']\n"
     ]
    }
   ],
   "source": [
    "# 데이터 확인\n",
    "print(data.head())\n",
    "print(columns)"
   ]
  },
  {
   "cell_type": "code",
   "execution_count": 45,
   "id": "c85be456-cb41-4a87-9668-d0cf29522d75",
   "metadata": {},
   "outputs": [],
   "source": [
    "columns = ['mpg', 'cylinders', 'displacement', 'horsepower', 'weight', 'acceleration', 'model year', 'origin', 'cname']"
   ]
  },
  {
   "cell_type": "code",
   "execution_count": 46,
   "id": "41e861b9-ccf1-45fc-95fa-82b0b5d92060",
   "metadata": {},
   "outputs": [
    {
     "name": "stderr",
     "output_type": "stream",
     "text": [
      "C:\\Users\\dnwjd\\AppData\\Local\\Temp\\ipykernel_11736\\340495001.py:1: FutureWarning: The 'delim_whitespace' keyword in pd.read_csv is deprecated and will be removed in a future version. Use ``sep='\\s+'`` instead\n",
      "  df = pd.read_csv(url, delim_whitespace=True, names=columns, na_values='?')\n"
     ]
    }
   ],
   "source": [
    "df = pd.read_csv(url, delim_whitespace=True, names=columns, na_values='?') "
   ]
  },
  {
   "cell_type": "code",
   "execution_count": 68,
   "id": "5972eea0-b9aa-49b8-9ca7-d748bc930c68",
   "metadata": {},
   "outputs": [
    {
     "name": "stdout",
     "output_type": "stream",
     "text": [
      "18.0   8   307.0      130.0      3504.      12.0   70  1\\t\"chevrolet chevelle malibu\"    0\n",
      "dtype: int64\n"
     ]
    }
   ],
   "source": [
    "# EDA - 결측치 확인\n",
    "print(data.isnull().sum())  # 결측치 확인"
   ]
  },
  {
   "cell_type": "code",
   "execution_count": 69,
   "id": "b96f77f3-07e6-4c26-8f59-659d5cca0234",
   "metadata": {},
   "outputs": [
    {
     "name": "stdout",
     "output_type": "stream",
     "text": [
      "18.0   8   307.0      130.0      3504.      12.0   70  1\\t\"chevrolet chevelle malibu\"    object\n",
      "dtype: object\n"
     ]
    }
   ],
   "source": [
    "# EDA - 데이터 타입 확인\n",
    "print(data.dtypes)  # 데이터 타입 확인"
   ]
  },
  {
   "cell_type": "code",
   "execution_count": null,
   "id": "7b73d754-766d-4fb2-a773-8f62cc775b5b",
   "metadata": {},
   "outputs": [],
   "source": [
    "# 3. 특징(Feature)과 레이블(Label) 분리\n",
    "X = data.drop([''], axis=1).values  # 제외한 나머지를 Feature로 사용\n",
    "y = data[''].values  # 'Rings'는 라벨"
   ]
  },
  {
   "cell_type": "code",
   "execution_count": null,
   "id": "85328ae0-61c5-4ec7-8e01-523a4e290c78",
   "metadata": {},
   "outputs": [],
   "source": [
    "# 4. 데이터 분할 (학습 데이터, 테스트 데이터)\n",
    "X_train, X_test, y_train, y_test = train_test_split(X, y, test_size=0.2, random_state=42)"
   ]
  },
  {
   "cell_type": "code",
   "execution_count": null,
   "id": "3dde48b7-c90b-4a55-bba5-d78dc2f1d220",
   "metadata": {},
   "outputs": [],
   "source": [
    "# 5. 데이터 정규화 (StandardScaler 사용)\n",
    "scaler = StandardScaler()\n",
    "X_train_scaled = scaler.fit_transform(X_train)\n",
    "X_test_scaled = scaler.transform(X_test)\n",
    "\n",
    "print(\"Data scaling successful!\")"
   ]
  },
  {
   "cell_type": "code",
   "execution_count": null,
   "id": "8b8e86ef-516f-4457-8cb0-85314990142d",
   "metadata": {},
   "outputs": [],
   "source": [
    "# 9. 회귀용 랜덤 포레스트 모델 훈련\n",
    "reg = RandomForestRegressor()\n",
    "reg.fit(X_train_scaled, y_train)"
   ]
  },
  {
   "cell_type": "code",
   "execution_count": null,
   "id": "c1c89920-6fbd-4185-b786-c3c4fff19aef",
   "metadata": {},
   "outputs": [],
   "source": [
    "# 10. 예측 및 성능 평가\n",
    "y_pred_reg = reg.predict(X_test_scaled)\n",
    "mse = mean_squared_error(y_test, y_pred_reg)\n",
    "r2 = r2_score(y_test, y_pred_reg)\n",
    "print(f'MSE: {mse}, R2: {r2}')"
   ]
  }
 ],
 "metadata": {
  "kernelspec": {
   "display_name": "Python 3 (ipykernel)",
   "language": "python",
   "name": "python3"
  },
  "language_info": {
   "codemirror_mode": {
    "name": "ipython",
    "version": 3
   },
   "file_extension": ".py",
   "mimetype": "text/x-python",
   "name": "python",
   "nbconvert_exporter": "python",
   "pygments_lexer": "ipython3",
   "version": "3.12.2"
  }
 },
 "nbformat": 4,
 "nbformat_minor": 5
}
